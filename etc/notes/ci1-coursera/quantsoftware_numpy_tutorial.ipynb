{
 "metadata": {
  "name": ""
 },
 "nbformat": 3,
 "nbformat_minor": 0,
 "worksheets": [
  {
   "cells": [
    {
     "cell_type": "markdown",
     "metadata": {},
     "source": [
      "# The [Quantsoftware Numpy tutorial](http://wiki.quantsoftware.org/index.php?title=Numpy_Tutorial_1) as an IPython notebook\n",
      "\n",
      "### Importing Numpy\n",
      "The following loads the numpy library and lets us refer to it by the shorthand \"np\", which is the convention used in the numpy documentation and in many online tutorials/examples."
     ]
    },
    {
     "cell_type": "code",
     "collapsed": false,
     "input": [
      "import numpy as np"
     ],
     "language": "python",
     "metadata": {},
     "outputs": [],
     "prompt_number": 1
    },
    {
     "cell_type": "markdown",
     "metadata": {},
     "source": [
      "### Creating arrays\n",
      "Now lets make an array to play around with. You can make numpy arrays in a number of ways, Filled with zeros:"
     ]
    },
    {
     "cell_type": "code",
     "collapsed": false,
     "input": [
      "zeroArray = np.zeros( (2,3) )\n",
      "print zeroArray"
     ],
     "language": "python",
     "metadata": {},
     "outputs": [
      {
       "output_type": "stream",
       "stream": "stdout",
       "text": [
        "[[ 0.  0.  0.]\n",
        " [ 0.  0.  0.]]\n"
       ]
      }
     ],
     "prompt_number": 2
    },
    {
     "cell_type": "markdown",
     "metadata": {},
     "source": [
      "Or ones:"
     ]
    },
    {
     "cell_type": "code",
     "collapsed": false,
     "input": [
      "oneArray = np.ones( (2,3) )\n",
      "print oneArray"
     ],
     "language": "python",
     "metadata": {},
     "outputs": [
      {
       "output_type": "stream",
       "stream": "stdout",
       "text": [
        "[[ 1.  1.  1.]\n",
        " [ 1.  1.  1.]]\n"
       ]
      }
     ],
     "prompt_number": 3
    },
    {
     "cell_type": "markdown",
     "metadata": {},
     "source": [
      "Or filled with junk:"
     ]
    },
    {
     "cell_type": "code",
     "collapsed": false,
     "input": [
      "emptyArray = np.empty( (2,3) ) \n",
      "print emptyArray"
     ],
     "language": "python",
     "metadata": {},
     "outputs": [
      {
       "output_type": "stream",
       "stream": "stdout",
       "text": [
        "[[  6.91997195e-310   1.84976122e-316   6.91997225e-310]\n",
        " [  2.17413192e-316   1.85928839e-316   1.06099790e-313]]\n"
       ]
      }
     ],
     "prompt_number": 4
    },
    {
     "cell_type": "markdown",
     "metadata": {},
     "source": [
      "Note, emptyArray might look random, but it's just uninitialized which means you shouldn't count on it having any particular data in it, even random data! If you do want random data you can use random():"
     ]
    },
    {
     "cell_type": "code",
     "collapsed": false,
     "input": [
      "randomArray = np.random.random( (2,3) )\n",
      "print randomArray"
     ],
     "language": "python",
     "metadata": {},
     "outputs": [
      {
       "output_type": "stream",
       "stream": "stdout",
       "text": [
        "[[ 0.91253686  0.70331325  0.42053793]\n",
        " [ 0.47538373  0.96904519  0.06918147]]\n"
       ]
      }
     ],
     "prompt_number": 5
    },
    {
     "cell_type": "markdown",
     "metadata": {},
     "source": [
      "If you're following along and trying these commands out, you should have noticed that making randomArray took a lot longer than emptyArray. That's because np.random.random(...) is actually using a random number generator to fill in each of the spots in the array with a randomly sampled number from 0 to 1.\n",
      "\n",
      "You can also create an array by hand:"
     ]
    },
    {
     "cell_type": "code",
     "collapsed": false,
     "input": [
      "foo = [ [1,2,3],\n",
      "        [4,5,6]]\n",
      "myArray = np.array(foo)\n",
      "print myArray"
     ],
     "language": "python",
     "metadata": {},
     "outputs": [
      {
       "output_type": "stream",
       "stream": "stdout",
       "text": [
        "[[1 2 3]\n",
        " [4 5 6]]\n"
       ]
      }
     ],
     "prompt_number": 6
    },
    {
     "cell_type": "markdown",
     "metadata": {},
     "source": [
      "### Reshaping arrays\n",
      "Of course, if you're typing out a range for a larger matrix, it's easier to use arange(...):"
     ]
    },
    {
     "cell_type": "code",
     "collapsed": false,
     "input": [
      "rangeArray = np.arange(6,12).reshape( (2,3) )\n",
      "print rangeArray"
     ],
     "language": "python",
     "metadata": {},
     "outputs": [
      {
       "output_type": "stream",
       "stream": "stdout",
       "text": [
        "[[ 6  7  8]\n",
        " [ 9 10 11]]\n"
       ]
      }
     ],
     "prompt_number": 7
    },
    {
     "cell_type": "markdown",
     "metadata": {},
     "source": [
      "there's two things going on here. First, the arange(...) function returns a 1D array similar to what you'd get from using the built-in python function range(...) with the same arguments, except it returns a numpy array instead of a list."
     ]
    },
    {
     "cell_type": "code",
     "collapsed": false,
     "input": [
      "print np.arange(6,12)"
     ],
     "language": "python",
     "metadata": {},
     "outputs": [
      {
       "output_type": "stream",
       "stream": "stdout",
       "text": [
        "[ 6  7  8  9 10 11]\n"
       ]
      }
     ],
     "prompt_number": 8
    },
    {
     "cell_type": "markdown",
     "metadata": {},
     "source": [
      "the reshape method takes the data in an existing array, and stuffs it into an array with the given shape and returns it."
     ]
    },
    {
     "cell_type": "code",
     "collapsed": false,
     "input": [
      "print rangeArray.reshape( (3,2) )"
     ],
     "language": "python",
     "metadata": {},
     "outputs": [
      {
       "output_type": "stream",
       "stream": "stdout",
       "text": [
        "[[ 6  7]\n",
        " [ 8  9]\n",
        " [10 11]]\n"
       ]
      }
     ],
     "prompt_number": 9
    },
    {
     "cell_type": "markdown",
     "metadata": {},
     "source": [
      "The original array doesn't change though."
     ]
    },
    {
     "cell_type": "code",
     "collapsed": false,
     "input": [
      "print rangeArray"
     ],
     "language": "python",
     "metadata": {},
     "outputs": [
      {
       "output_type": "stream",
       "stream": "stdout",
       "text": [
        "[[ 6  7  8]\n",
        " [ 9 10 11]]\n"
       ]
      }
     ],
     "prompt_number": 10
    },
    {
     "cell_type": "markdown",
     "metadata": {},
     "source": [
      "When you use reshape(...) the total number of things in the array must stay the same. So reshaping an array with 2 rows and 3 columns into one with 3 rows and 2 columns is fine, but 3x3 or 1x5 won't work"
     ]
    },
    {
     "cell_type": "code",
     "collapsed": false,
     "input": [
      "print rangeArray.reshape( (3,3) )"
     ],
     "language": "python",
     "metadata": {},
     "outputs": [
      {
       "ename": "ValueError",
       "evalue": "total size of new array must be unchanged",
       "output_type": "pyerr",
       "traceback": [
        "\u001b[1;31m---------------------------------------------------------------------------\u001b[0m\n\u001b[1;31mValueError\u001b[0m                                Traceback (most recent call last)",
        "\u001b[1;32m<ipython-input-11-5ca65ad9b738>\u001b[0m in \u001b[0;36m<module>\u001b[1;34m()\u001b[0m\n\u001b[1;32m----> 1\u001b[1;33m \u001b[1;32mprint\u001b[0m \u001b[0mrangeArray\u001b[0m\u001b[1;33m.\u001b[0m\u001b[0mreshape\u001b[0m\u001b[1;33m(\u001b[0m \u001b[1;33m(\u001b[0m\u001b[1;36m3\u001b[0m\u001b[1;33m,\u001b[0m\u001b[1;36m3\u001b[0m\u001b[1;33m)\u001b[0m \u001b[1;33m)\u001b[0m\u001b[1;33m\u001b[0m\u001b[0m\n\u001b[0m\u001b[0;32m      2\u001b[0m \u001b[0msquareArray\u001b[0m \u001b[1;33m=\u001b[0m \u001b[0mnp\u001b[0m\u001b[1;33m.\u001b[0m\u001b[0marange\u001b[0m\u001b[1;33m(\u001b[0m\u001b[1;36m1\u001b[0m\u001b[1;33m,\u001b[0m\u001b[1;36m10\u001b[0m\u001b[1;33m)\u001b[0m\u001b[1;33m.\u001b[0m\u001b[0mreshape\u001b[0m\u001b[1;33m(\u001b[0m \u001b[1;33m(\u001b[0m\u001b[1;36m3\u001b[0m\u001b[1;33m,\u001b[0m\u001b[1;36m3\u001b[0m\u001b[1;33m)\u001b[0m \u001b[1;33m)\u001b[0m \u001b[1;31m#this is fine, 9 elements\u001b[0m\u001b[1;33m\u001b[0m\u001b[0m\n",
        "\u001b[1;31mValueError\u001b[0m: total size of new array must be unchanged"
       ]
      }
     ],
     "prompt_number": 11
    },
    {
     "cell_type": "code",
     "collapsed": false,
     "input": [
      "squareArray = np.arange(1,10).reshape( (3,3) ) #this is fine, 9 elements\n",
      "print squareArray"
     ],
     "language": "python",
     "metadata": {},
     "outputs": [
      {
       "output_type": "stream",
       "stream": "stdout",
       "text": [
        "[[1 2 3]\n",
        " [4 5 6]\n",
        " [7 8 9]]\n"
       ]
      }
     ],
     "prompt_number": 13
    },
    {
     "cell_type": "markdown",
     "metadata": {},
     "source": [
      "### Accessing array elements\n",
      "Accessing an array is also pretty straight forward. You access a specific spot in the table by referring to its row and column inside square braces after the array:"
     ]
    },
    {
     "cell_type": "code",
     "collapsed": false,
     "input": [
      "print rangeArray[0,1]"
     ],
     "language": "python",
     "metadata": {},
     "outputs": [
      {
       "output_type": "stream",
       "stream": "stdout",
       "text": [
        "7\n"
       ]
      }
     ],
     "prompt_number": 14
    },
    {
     "cell_type": "markdown",
     "metadata": {},
     "source": [
      "Note that row and column numbers start from 0, not 1! Numpy also lets you refer to ranges inside an array:"
     ]
    },
    {
     "cell_type": "code",
     "collapsed": false,
     "input": [
      "print rangeArray[0,0:2]"
     ],
     "language": "python",
     "metadata": {},
     "outputs": [
      {
       "output_type": "stream",
       "stream": "stdout",
       "text": [
        "[6 7]\n"
       ]
      }
     ],
     "prompt_number": 15
    },
    {
     "cell_type": "code",
     "collapsed": false,
     "input": [
      "print squareArray[0:2,0:2]"
     ],
     "language": "python",
     "metadata": {},
     "outputs": [
      {
       "output_type": "stream",
       "stream": "stdout",
       "text": [
        "[[1 2]\n",
        " [4 5]]\n"
       ]
      }
     ],
     "prompt_number": 16
    },
    {
     "cell_type": "markdown",
     "metadata": {},
     "source": [
      "These ranges work just like slices and python lists. n:m:t specifies a range that starts at n, and stops before m, in steps of size t. If any of these are left off, they're assumed to be the start, the end+1, and 1 respectively"
     ]
    },
    {
     "cell_type": "code",
     "collapsed": false,
     "input": [
      "print squareArray[:,0:3:2]"
     ],
     "language": "python",
     "metadata": {},
     "outputs": [
      {
       "output_type": "stream",
       "stream": "stdout",
       "text": [
        "[[1 3]\n",
        " [4 6]\n",
        " [7 9]]\n"
       ]
      }
     ],
     "prompt_number": 17
    },
    {
     "cell_type": "markdown",
     "metadata": {},
     "source": [
      "Also like python lists, you can assign values to specific positions, or ranges of values to slices"
     ]
    },
    {
     "cell_type": "code",
     "collapsed": false,
     "input": [
      "squareArray[0,:] = np.array(range(1,4)) # set the first row to 1,2,3\n",
      "squareArray[1,1] = 0                    # set the middle spot to zero\n",
      "squareArray[2,:] = 1                    # set the last row to ones\n",
      "print squareArray"
     ],
     "language": "python",
     "metadata": {},
     "outputs": [
      {
       "output_type": "stream",
       "stream": "stdout",
       "text": [
        "[[1 2 3]\n",
        " [4 0 6]\n",
        " [1 1 1]]\n"
       ]
      }
     ],
     "prompt_number": 18
    },
    {
     "cell_type": "markdown",
     "metadata": {},
     "source": [
      "Something new to numpy arrays is indexing using an array of indices:"
     ]
    },
    {
     "cell_type": "code",
     "collapsed": false,
     "input": [
      "fibIndices = np.array( [1, 1, 2, 3] )\n",
      "randomRow = np.random.random( (10,1) ) # an array of 10 random numbers\n",
      "print randomRow"
     ],
     "language": "python",
     "metadata": {},
     "outputs": [
      {
       "output_type": "stream",
       "stream": "stdout",
       "text": [
        "[[ 0.01042836]\n",
        " [ 0.35193382]\n",
        " [ 0.70319522]\n",
        " [ 0.31075129]\n",
        " [ 0.5585514 ]\n",
        " [ 0.9961552 ]\n",
        " [ 0.89595873]\n",
        " [ 0.68940136]\n",
        " [ 0.83591443]\n",
        " [ 0.13828717]]\n"
       ]
      }
     ],
     "prompt_number": 19
    },
    {
     "cell_type": "code",
     "collapsed": false,
     "input": [
      "print randomRow[fibIndices] # the first, first, second and third element of\n",
      "                            # randomRow "
     ],
     "language": "python",
     "metadata": {},
     "outputs": [
      {
       "output_type": "stream",
       "stream": "stdout",
       "text": [
        "[[ 0.35193382]\n",
        " [ 0.35193382]\n",
        " [ 0.70319522]\n",
        " [ 0.31075129]]\n"
       ]
      }
     ],
     "prompt_number": 20
    },
    {
     "cell_type": "markdown",
     "metadata": {},
     "source": [
      "You can also use an array of true/false values to index:"
     ]
    },
    {
     "cell_type": "code",
     "collapsed": false,
     "input": [
      "boolIndices = np.array( [[ True, False,  True],\n",
      "                          [False,  True, False],\n",
      "                          [ True, False,  True]] )\n",
      "print squareArray[boolIndices] # a 1D array with the selected values"
     ],
     "language": "python",
     "metadata": {},
     "outputs": [
      {
       "output_type": "stream",
       "stream": "stdout",
       "text": [
        "[1 3 0 1 1]\n"
       ]
      }
     ],
     "prompt_number": 21
    },
    {
     "cell_type": "markdown",
     "metadata": {},
     "source": [
      "It gets a little more complicated with 2D (and higher) arrays. You need two index arrays for a 2D array:"
     ]
    },
    {
     "cell_type": "code",
     "collapsed": false,
     "input": [
      "rows = np.array( [[0,0],[2,2]] ) #get the corners of our square array\n",
      "cols = np.array( [[0,2],[0,2]] )\n",
      "print squareArray[rows,cols]"
     ],
     "language": "python",
     "metadata": {},
     "outputs": [
      {
       "output_type": "stream",
       "stream": "stdout",
       "text": [
        "[[1 3]\n",
        " [1 1]]\n"
       ]
      }
     ],
     "prompt_number": 22
    },
    {
     "cell_type": "code",
     "collapsed": false,
     "input": [
      "boolRows = np.array( [False, True, False] ) # just the middle row\n",
      "boolCols = np.array( [True, False, True] )  # Not the middle column\n",
      "print squareArray[boolRows,boolCols]"
     ],
     "language": "python",
     "metadata": {},
     "outputs": [
      {
       "output_type": "stream",
       "stream": "stdout",
       "text": [
        "[4 6]\n"
       ]
      }
     ],
     "prompt_number": 23
    },
    {
     "cell_type": "markdown",
     "metadata": {},
     "source": [
      "### Operations on arrays\n",
      "One useful trick is to create a boolean matrix based on some test and use that as an index in order to get the elements of a matrix that pass the test:"
     ]
    },
    {
     "cell_type": "code",
     "collapsed": false,
     "input": [
      "sqAverage = np.average(squareArray) # average(...) returns the average of all\n",
      "                                    # the elements in the given array\n",
      "betterThanAverage = squareArray > sqAverage\n",
      "print betterThanAverage"
     ],
     "language": "python",
     "metadata": {},
     "outputs": [
      {
       "output_type": "stream",
       "stream": "stdout",
       "text": [
        "[[False False  True]\n",
        " [ True False  True]\n",
        " [False False False]]\n"
       ]
      }
     ],
     "prompt_number": 24
    },
    {
     "cell_type": "code",
     "collapsed": false,
     "input": [
      "print squareArray[betterThanAverage]"
     ],
     "language": "python",
     "metadata": {},
     "outputs": [
      {
       "output_type": "stream",
       "stream": "stdout",
       "text": [
        "[3 4 6]\n"
       ]
      }
     ],
     "prompt_number": 25
    },
    {
     "cell_type": "markdown",
     "metadata": {},
     "source": [
      "Indexing like this can also be used to assign values to elements of the array. This is particularly useful if you want to filter an array, say by making sure that all of its values are above/below a certain threshold:"
     ]
    },
    {
     "cell_type": "code",
     "collapsed": false,
     "input": [
      "sqStdDev = np.std(squareArray) # std(...) returns the standard deviation of\n",
      "                               # all the elements in the given array\n",
      "clampedSqArray = np.array(squareArray.copy(), dtype=float) \n",
      "                                    # make a copy of squareArray that will\n",
      "                                    # be \"clamped\". It will only contain\n",
      "                                    # values within one standard deviation\n",
      "                                    # of the mean. Values that are too low\n",
      "                                    # or to high will be set to the min\n",
      "                                    # and max respectively. We set \n",
      "                                    # dtype=float because sqAverage\n",
      "                                    # and sqStdDev are floating point\n",
      "                                    # numbers, and we don't want to \n",
      "                                    # truncate them down to integers.\n",
      "clampedSqArray[ (squareArray-sqAverage) > sqStdDev ] = sqAverage+sqStdDev\n",
      "clampedSqArray[ (squareArray-sqAverage) < -sqStdDev ] = sqAverage-sqStdDev\n",
      "print clampedSqArray"
     ],
     "language": "python",
     "metadata": {},
     "outputs": [
      {
       "output_type": "stream",
       "stream": "stdout",
       "text": [
        "[[ 1.          2.          3.        ]\n",
        " [ 3.90272394  0.31949828  3.90272394]\n",
        " [ 1.          1.          1.        ]]\n"
       ]
      }
     ],
     "prompt_number": 26
    },
    {
     "cell_type": "markdown",
     "metadata": {},
     "source": [
      "Multiplying and dividing arrays by numbers does what you'd expect. It multiples/divides element-wise"
     ]
    },
    {
     "cell_type": "code",
     "collapsed": false,
     "input": [
      "print squareArray * 2"
     ],
     "language": "python",
     "metadata": {},
     "outputs": [
      {
       "output_type": "stream",
       "stream": "stdout",
       "text": [
        "[[ 2  4  6]\n",
        " [ 8  0 12]\n",
        " [ 2  2  2]]\n"
       ]
      }
     ],
     "prompt_number": 27
    },
    {
     "cell_type": "markdown",
     "metadata": {},
     "source": [
      "Addition works similarly:"
     ]
    },
    {
     "cell_type": "code",
     "collapsed": false,
     "input": [
      "print squareArray + np.ones( (3,3) )"
     ],
     "language": "python",
     "metadata": {},
     "outputs": [
      {
       "output_type": "stream",
       "stream": "stdout",
       "text": [
        "[[ 2.  3.  4.]\n",
        " [ 5.  1.  7.]\n",
        " [ 2.  2.  2.]]\n"
       ]
      }
     ],
     "prompt_number": 28
    },
    {
     "cell_type": "markdown",
     "metadata": {},
     "source": [
      "Multiplying two arrays together (of the same size) is also element wise"
     ]
    },
    {
     "cell_type": "code",
     "collapsed": false,
     "input": [
      "print squareArray * np.arange(1,10).reshape( (3,3) )"
     ],
     "language": "python",
     "metadata": {},
     "outputs": [
      {
       "output_type": "stream",
       "stream": "stdout",
       "text": [
        "[[ 1  4  9]\n",
        " [16  0 36]\n",
        " [ 7  8  9]]\n"
       ]
      }
     ],
     "prompt_number": 29
    },
    {
     "cell_type": "markdown",
     "metadata": {},
     "source": [
      "Unless you use the dot(...) function, which does matrix multiplication from linear algebra:"
     ]
    },
    {
     "cell_type": "code",
     "collapsed": false,
     "input": [
      "matA = np.array( [[1,2],[3,4]] )\n",
      "matB = np.array( [[5,6],[7,8]] )\n",
      "print np.dot(matA,matB)"
     ],
     "language": "python",
     "metadata": {},
     "outputs": [
      {
       "output_type": "stream",
       "stream": "stdout",
       "text": [
        "[[19 22]\n",
        " [43 50]]\n"
       ]
      }
     ],
     "prompt_number": 30
    },
    {
     "cell_type": "markdown",
     "metadata": {},
     "source": [
      "And thats it! There's a lot more to the numpy library, and there are a few things I skipped over here, such as what happens when array dimensions don't line up when you're indexing or multiplying them together, so if you're interested, I strongly suggest you head over to the scipy wiki's numpy tutorial for a more in depth look at using numpy arrays."
     ]
    }
   ],
   "metadata": {}
  }
 ]
}